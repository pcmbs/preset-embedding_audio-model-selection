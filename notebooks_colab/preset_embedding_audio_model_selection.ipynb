{
  "cells": [
    {
      "cell_type": "markdown",
      "metadata": {
        "id": "view-in-github",
        "colab_type": "text"
      },
      "source": [
        "<a href=\"https://colab.research.google.com/github/pcmbs/preset-embedding_audio-model-selection/blob/main/notebooks_colab/preset_embedding_audio_model_selection.ipynb\" target=\"_parent\"><img src=\"https://colab.research.google.com/assets/colab-badge.svg\" alt=\"Open In Colab\"/></a>"
      ]
    },
    {
      "cell_type": "markdown",
      "metadata": {
        "id": "wGj9GvDfykf-"
      },
      "source": [
        "# Setup"
      ]
    },
    {
      "cell_type": "markdown",
      "source": [
        "Clone GitHub repo"
      ],
      "metadata": {
        "id": "xfu4HaML8tEC"
      }
    },
    {
      "cell_type": "code",
      "execution_count": 1,
      "metadata": {
        "colab": {
          "base_uri": "https://localhost:8080/"
        },
        "id": "U69TDEVvWGCr",
        "outputId": "40a1b4bb-2c47-45b3-88da-2117489bf9ac"
      },
      "outputs": [
        {
          "output_type": "stream",
          "name": "stdout",
          "text": [
            "Cloning into 'preset-embedding_audio-model-selection'...\n",
            "remote: Enumerating objects: 1334, done.\u001b[K\n",
            "remote: Counting objects: 100% (585/585), done.\u001b[K\n",
            "remote: Compressing objects: 100% (282/282), done.\u001b[K\n",
            "remote: Total 1334 (delta 421), reused 435 (delta 294), pack-reused 749\u001b[K\n",
            "Receiving objects: 100% (1334/1334), 122.46 MiB | 25.82 MiB/s, done.\n",
            "Resolving deltas: 100% (733/733), done.\n",
            "/content/preset-embedding_audio-model-selection\n"
          ]
        }
      ],
      "source": [
        "!git clone -b cav-mae https://github.com/pcmbs/preset-embedding_audio-model-selection.git\n",
        "\n",
        "# change current directory\n",
        "%cd /content/preset-embedding_audio-model-selection"
      ]
    },
    {
      "cell_type": "markdown",
      "source": [
        "Download dependencies from requirements.txt"
      ],
      "metadata": {
        "id": "hGzD_vjD8lKD"
      }
    },
    {
      "cell_type": "code",
      "execution_count": 2,
      "metadata": {
        "colab": {
          "base_uri": "https://localhost:8080/"
        },
        "id": "JuThrTW3YklA",
        "outputId": "bcd601d0-4dbd-457c-de95-eb669aff94f0"
      },
      "outputs": [
        {
          "output_type": "stream",
          "name": "stdout",
          "text": [
            "\u001b[2K     \u001b[90m━━━━━━━━━━━━━━━━━━━━━━━━━━━━━━━━━━━━━━━━\u001b[0m \u001b[32m44.1/44.1 MB\u001b[0m \u001b[31m10.2 MB/s\u001b[0m eta \u001b[36m0:00:00\u001b[0m\n",
            "\u001b[2K     \u001b[90m━━━━━━━━━━━━━━━━━━━━━━━━━━━━━━━━━━━━━━━━\u001b[0m \u001b[32m42.2/42.2 kB\u001b[0m \u001b[31m3.9 MB/s\u001b[0m eta \u001b[36m0:00:00\u001b[0m\n",
            "\u001b[2K     \u001b[90m━━━━━━━━━━━━━━━━━━━━━━━━━━━━━━━━━━━━━━━━\u001b[0m \u001b[32m65.7/65.7 kB\u001b[0m \u001b[31m4.5 MB/s\u001b[0m eta \u001b[36m0:00:00\u001b[0m\n",
            "\u001b[2K     \u001b[90m━━━━━━━━━━━━━━━━━━━━━━━━━━━━━━━━━━━━━━\u001b[0m \u001b[32m154.5/154.5 kB\u001b[0m \u001b[31m13.1 MB/s\u001b[0m eta \u001b[36m0:00:00\u001b[0m\n",
            "\u001b[2K     \u001b[90m━━━━━━━━━━━━━━━━━━━━━━━━━━━━━━━━━━━━━━━━\u001b[0m \u001b[32m1.9/1.9 MB\u001b[0m \u001b[31m48.6 MB/s\u001b[0m eta \u001b[36m0:00:00\u001b[0m\n",
            "\u001b[2K     \u001b[90m━━━━━━━━━━━━━━━━━━━━━━━━━━━━━━━━━━━━━━━━\u001b[0m \u001b[32m79.5/79.5 kB\u001b[0m \u001b[31m6.0 MB/s\u001b[0m eta \u001b[36m0:00:00\u001b[0m\n",
            "\u001b[2K     \u001b[90m━━━━━━━━━━━━━━━━━━━━━━━━━━━━━━━━━━━━━━━━\u001b[0m \u001b[32m3.3/3.3 MB\u001b[0m \u001b[31m25.4 MB/s\u001b[0m eta \u001b[36m0:00:00\u001b[0m\n",
            "\u001b[2K     \u001b[90m━━━━━━━━━━━━━━━━━━━━━━━━━━━━━━━━━━━━━━\u001b[0m \u001b[32m377.0/377.0 kB\u001b[0m \u001b[31m18.7 MB/s\u001b[0m eta \u001b[36m0:00:00\u001b[0m\n",
            "\u001b[2K     \u001b[90m━━━━━━━━━━━━━━━━━━━━━━━━━━━━━━━━━━━━━━\u001b[0m \u001b[32m731.1/731.1 kB\u001b[0m \u001b[31m41.0 MB/s\u001b[0m eta \u001b[36m0:00:00\u001b[0m\n",
            "\u001b[2K     \u001b[90m━━━━━━━━━━━━━━━━━━━━━━━━━━━━━━━━━━━━━━━━\u001b[0m \u001b[32m2.1/2.1 MB\u001b[0m \u001b[31m46.4 MB/s\u001b[0m eta \u001b[36m0:00:00\u001b[0m\n",
            "\u001b[2K     \u001b[90m━━━━━━━━━━━━━━━━━━━━━━━━━━━━━━━━━━━━━━━━\u001b[0m \u001b[32m67.0/67.0 kB\u001b[0m \u001b[31m6.0 MB/s\u001b[0m eta \u001b[36m0:00:00\u001b[0m\n",
            "\u001b[2K     \u001b[90m━━━━━━━━━━━━━━━━━━━━━━━━━━━━━━━━━━━━━━\u001b[0m \u001b[32m117.0/117.0 kB\u001b[0m \u001b[31m12.2 MB/s\u001b[0m eta \u001b[36m0:00:00\u001b[0m\n",
            "\u001b[?25h  Preparing metadata (setup.py) ... \u001b[?25l\u001b[?25hdone\n",
            "\u001b[2K     \u001b[90m━━━━━━━━━━━━━━━━━━━━━━━━━━━━━━━━━━━━━━━━\u001b[0m \u001b[32m66.4/66.4 kB\u001b[0m \u001b[31m5.1 MB/s\u001b[0m eta \u001b[36m0:00:00\u001b[0m\n",
            "\u001b[2K     \u001b[90m━━━━━━━━━━━━━━━━━━━━━━━━━━━━━━━━━━━━━━━━\u001b[0m \u001b[32m70.7/70.7 kB\u001b[0m \u001b[31m6.9 MB/s\u001b[0m eta \u001b[36m0:00:00\u001b[0m\n",
            "\u001b[2K     \u001b[90m━━━━━━━━━━━━━━━━━━━━━━━━━━━━━━━━━━━━━━\u001b[0m \u001b[32m596.7/596.7 kB\u001b[0m \u001b[31m50.0 MB/s\u001b[0m eta \u001b[36m0:00:00\u001b[0m\n",
            "\u001b[2K     \u001b[90m━━━━━━━━━━━━━━━━━━━━━━━━━━━━━━━━━━━━━━━━\u001b[0m \u001b[32m45.7/45.7 kB\u001b[0m \u001b[31m5.8 MB/s\u001b[0m eta \u001b[36m0:00:00\u001b[0m\n",
            "\u001b[2K     \u001b[90m━━━━━━━━━━━━━━━━━━━━━━━━━━━━━━━━━━━━━━━━\u001b[0m \u001b[32m59.5/59.5 kB\u001b[0m \u001b[31m7.5 MB/s\u001b[0m eta \u001b[36m0:00:00\u001b[0m\n",
            "\u001b[2K     \u001b[90m━━━━━━━━━━━━━━━━━━━━━━━━━━━━━━━━━━━━━━\u001b[0m \u001b[32m129.9/129.9 kB\u001b[0m \u001b[31m15.8 MB/s\u001b[0m eta \u001b[36m0:00:00\u001b[0m\n",
            "\u001b[2K     \u001b[90m━━━━━━━━━━━━━━━━━━━━━━━━━━━━━━━━━━━━━━\u001b[0m \u001b[32m722.8/722.8 kB\u001b[0m \u001b[31m63.0 MB/s\u001b[0m eta \u001b[36m0:00:00\u001b[0m\n",
            "\u001b[2K     \u001b[90m━━━━━━━━━━━━━━━━━━━━━━━━━━━━━━━━━━━━━━\u001b[0m \u001b[32m323.4/323.4 kB\u001b[0m \u001b[31m39.6 MB/s\u001b[0m eta \u001b[36m0:00:00\u001b[0m\n",
            "\u001b[?25h  Preparing metadata (setup.py) ... \u001b[?25l\u001b[?25hdone\n",
            "\u001b[2K     \u001b[90m━━━━━━━━━━━━━━━━━━━━━━━━━━━━━━━━━━━━━━━━\u001b[0m \u001b[32m43.3/43.3 kB\u001b[0m \u001b[31m4.7 MB/s\u001b[0m eta \u001b[36m0:00:00\u001b[0m\n",
            "\u001b[2K     \u001b[90m━━━━━━━━━━━━━━━━━━━━━━━━━━━━━━━━━━━━━━━━\u001b[0m \u001b[32m59.6/59.6 kB\u001b[0m \u001b[31m7.7 MB/s\u001b[0m eta \u001b[36m0:00:00\u001b[0m\n",
            "\u001b[?25h  Preparing metadata (setup.py) ... \u001b[?25l\u001b[?25hdone\n",
            "\u001b[2K     \u001b[90m━━━━━━━━━━━━━━━━━━━━━━━━━━━━━━━━━━━━━━\u001b[0m \u001b[32m188.5/188.5 kB\u001b[0m \u001b[31m20.8 MB/s\u001b[0m eta \u001b[36m0:00:00\u001b[0m\n",
            "\u001b[2K     \u001b[90m━━━━━━━━━━━━━━━━━━━━━━━━━━━━━━━━━━━━━━\u001b[0m \u001b[32m215.6/215.6 kB\u001b[0m \u001b[31m24.2 MB/s\u001b[0m eta \u001b[36m0:00:00\u001b[0m\n",
            "\u001b[?25h  Preparing metadata (setup.py) ... \u001b[?25l\u001b[?25hdone\n",
            "\u001b[2K     \u001b[90m━━━━━━━━━━━━━━━━━━━━━━━━━━━━━━━━━━━━━━━━\u001b[0m \u001b[32m62.7/62.7 kB\u001b[0m \u001b[31m8.2 MB/s\u001b[0m eta \u001b[36m0:00:00\u001b[0m\n",
            "\u001b[2K     \u001b[90m━━━━━━━━━━━━━━━━━━━━━━━━━━━━━━━━━━━━━━━━\u001b[0m \u001b[32m58.4/58.4 kB\u001b[0m \u001b[31m6.4 MB/s\u001b[0m eta \u001b[36m0:00:00\u001b[0m\n",
            "\u001b[2K     \u001b[90m━━━━━━━━━━━━━━━━━━━━━━━━━━━━━━━━━━━━━━━━\u001b[0m \u001b[32m58.3/58.3 kB\u001b[0m \u001b[31m7.7 MB/s\u001b[0m eta \u001b[36m0:00:00\u001b[0m\n",
            "\u001b[?25h  Building wheel for antlr4-python3-runtime (setup.py) ... \u001b[?25l\u001b[?25hdone\n",
            "  Building wheel for julius (setup.py) ... \u001b[?25l\u001b[?25hdone\n",
            "  Building wheel for resampy (setup.py) ... \u001b[?25l\u001b[?25hdone\n",
            "  Building wheel for pathtools (setup.py) ... \u001b[?25l\u001b[?25hdone\n"
          ]
        }
      ],
      "source": [
        "#@title\n",
        "!pip install -r requirements.txt --quiet"
      ]
    },
    {
      "cell_type": "markdown",
      "source": [
        "set PROJECT_ROOT python environment variable (for hydra config)"
      ],
      "metadata": {
        "id": "ZHhAtrCp8cxJ"
      }
    },
    {
      "cell_type": "code",
      "source": [
        "import os\n",
        "os.environ[\"PROJECT_ROOT\"] = \"/content/preset-embedding_audio-model-selection\""
      ],
      "metadata": {
        "id": "8Eo8kbtq8bXe"
      },
      "execution_count": 3,
      "outputs": []
    },
    {
      "cell_type": "markdown",
      "source": [
        "# Download nsynth-lite\n",
        "(only required for the nearest neighbors evaluation)"
      ],
      "metadata": {
        "id": "D-RQ4VlrmhGK"
      }
    },
    {
      "cell_type": "code",
      "source": [
        "#@title\n",
        "!cd data && gdown \"1720jJyIB1BAVoGg5Caq1SF78Gy4vZuEt\" && unzip -q -o nsynth-lite.zip && rm nsynth-lite.zip && rm -r __MACOSX"
      ],
      "metadata": {
        "colab": {
          "base_uri": "https://localhost:8080/"
        },
        "id": "kKbkIv7CmoWm",
        "outputId": "64a44ecd-7d6c-41ce-b703-81b79b540048"
      },
      "execution_count": null,
      "outputs": [
        {
          "output_type": "stream",
          "name": "stdout",
          "text": [
            "Downloading...\n",
            "From: https://drive.google.com/uc?id=1720jJyIB1BAVoGg5Caq1SF78Gy4vZuEt\n",
            "To: /content/preset-embedding_audio-model-colab/data/nsynth-lite.zip\n",
            "100% 1.65G/1.65G [00:15<00:00, 103MB/s]\n"
          ]
        }
      ]
    },
    {
      "cell_type": "markdown",
      "source": [
        "# Download sound attributes ranking dataset\n",
        "(only required for the sound attributes ranking evaluation)\n"
      ],
      "metadata": {
        "id": "fiUWxeUOm1sm"
      }
    },
    {
      "cell_type": "code",
      "source": [
        "!cd data/TAL-NoiseMaker && gdown \"1f6Hkkveset6vwdbgvXImHmYTh79hBqv1\" && unzip -q -o sound_attributes_ranking_dataset.zip && rm sound_attributes_ranking_dataset.zip"
      ],
      "metadata": {
        "colab": {
          "base_uri": "https://localhost:8080/"
        },
        "id": "auyWvr8dm-1w",
        "outputId": "763438b2-7801-4c55-88e2-0c0df8ee4800"
      },
      "execution_count": 4,
      "outputs": [
        {
          "output_type": "stream",
          "name": "stdout",
          "text": [
            "Downloading...\n",
            "From: https://drive.google.com/uc?id=1f6Hkkveset6vwdbgvXImHmYTh79hBqv1\n",
            "To: /content/preset-embedding_audio-model-selection/data/TAL-NoiseMaker/sound_attributes_ranking_dataset.zip\n",
            "100% 1.49G/1.49G [00:18<00:00, 81.1MB/s]\n"
          ]
        }
      ]
    },
    {
      "cell_type": "markdown",
      "metadata": {
        "id": "ePZTU4nALaq0"
      },
      "source": [
        "# Hydra Config"
      ]
    },
    {
      "cell_type": "markdown",
      "metadata": {
        "id": "EragSN0p4ndg"
      },
      "source": [
        "Run the following cell to print the current config"
      ]
    },
    {
      "cell_type": "code",
      "execution_count": null,
      "metadata": {
        "colab": {
          "base_uri": "https://localhost:8080/"
        },
        "id": "BBMOMBcAo7d8",
        "outputId": "8b279557-3e15-43b3-cf7b-3855dcddd123"
      },
      "outputs": [
        {
          "output_type": "stream",
          "name": "stdout",
          "text": [
            "seed: 667\n",
            "task_name: passt_s_swa_p16_128_ap476_base_embed_only\n",
            "wandb:\n",
            "  dir: /content/preset-embedding_audio-model-selection/logs/passt_s_swa_p16_128_ap476_base_embed_only/2023-08-04_13-58-21\n",
            "  mode: online\n",
            "  id: null\n",
            "  anonymous: null\n",
            "  project: preset-embedding_audio-model-selection\n",
            "  tags: []\n",
            "model:\n",
            "  encoder:\n",
            "    _target_: models.passt.passt_wrapper.PasstWrapper\n",
            "    features: base\n",
            "    arch: passt_s_swa_p16_128_ap476\n",
            "    mode: embed_only\n",
            "  name: passt_s_swa_p16_128_ap476_base_embed_only\n",
            "  group: passt\n",
            "eval:\n",
            "  sound_attributes_ranking:\n",
            "    root: /content/preset-embedding_audio-model-selection/data/TAL-NoiseMaker/sound_attributes_ranking_dataset\n",
            "distance_fn: pairwise_manhattan_distance\n",
            "reduce_fn: flatten\n",
            "paths:\n",
            "  root_dir: /content/preset-embedding_audio-model-selection\n",
            "  data_dir: /content/preset-embedding_audio-model-selection/data\n",
            "  log_dir: /content/preset-embedding_audio-model-selection/logs\n",
            "  ckpt_dir: /content/preset-embedding_audio-model-selection/checkpoints\n",
            "  output_dir: /content/preset-embedding_audio-model-selection/logs/passt_s_swa_p16_128_ap476_base_embed_only/2023-08-04_13-58-21\n",
            "  work_dir: /content/preset-embedding_audio-model-selection\n",
            "\n"
          ]
        }
      ],
      "source": [
        "#@title\n",
        "from omegaconf import OmegaConf\n",
        "from hydra import initialize, compose\n",
        "from hydra.core.hydra_config import HydraConfig\n",
        "\n",
        "with initialize(version_base=None, config_path=\"configs\", job_name=\"print_cfg\"):\n",
        "    cfg = compose(config_name=\"evaluate_audio_model\", return_hydra_config=True)\n",
        "    cfg.hydra.job.num = 0 # arbitrary value, otherwise raise an error since missing\n",
        "    cfg.hydra.runtime.output_dir = cfg.hydra.run.dir # same as above, should be that for single run\n",
        "    HydraConfig.instance().set_config(cfg)\n",
        "    cfg_no_hydra = {k: v for k, v in cfg.items() if k != \"hydra\"} # dont print hydra config\n",
        "    print(OmegaConf.to_yaml(cfg_no_hydra, resolve=True))\n"
      ]
    },
    {
      "cell_type": "markdown",
      "source": [
        "# Evaluate audio models"
      ],
      "metadata": {
        "id": "xXcJeaFj972L"
      }
    },
    {
      "cell_type": "markdown",
      "source": [
        "evaluate with the current config"
      ],
      "metadata": {
        "id": "QVrk1vT_FLw6"
      }
    },
    {
      "cell_type": "code",
      "source": [
        "!python src/evaluate_audio_model.py"
      ],
      "metadata": {
        "id": "PGrozuEqFHvD"
      },
      "execution_count": null,
      "outputs": []
    },
    {
      "cell_type": "markdown",
      "source": [
        "Evaluate all models (with corresponding hparams)"
      ],
      "metadata": {
        "id": "Y-_eW2iZSez5"
      }
    },
    {
      "cell_type": "code",
      "source": [
        "# Encodec\n",
        "!python src/evaluate_audio_model.py -m model=\"encodec24khz,encodec48khz\" distance_fn=\"pairwise_manhattan_distance\" reduce_fn=\"glob(*time)\"\n",
        "# OpenL3\n",
        "!python src/evaluate_audio_model.py -m model=\"glob(*6144, exclude=openl3_linear*)\" distance_fn=\"pairwise_manhattan_distance\" reduce_fn=\"glob(*, exclude=*channel)\"\n",
        "# PaSST\n",
        "!python src/evaluate_audio_model.py -m model=\"glob(passt_s*)\" distance_fn=\"pairwise_manhattan_distance\" reduce_fn=\"global_avg_pool_time,flatten\" ++model.encoder.features=\"base,base2level,base2levelmel\"\n",
        "# EfficientAT\n",
        "!python src/evaluate_audio_model.py -m model=\"glob(mn*)\" distance_fn=\"pairwise_manhattan_distance\" reduce_fn=\"global_avg_pool_time,flatten\"\n",
        "# CAV-MAE\n",
        "!python src/evaluate_audio_model.py -m model=\"glob(cavmae*)\" distance_fn=\"pairwise_manhattan_distance\" reduce_fn=\"glob(*, exclude=*channel)\""
      ],
      "metadata": {
        "id": "T6PaZazmSecS"
      },
      "execution_count": null,
      "outputs": []
    },
    {
      "cell_type": "markdown",
      "source": [
        "evaluate encodec models"
      ],
      "metadata": {
        "id": "-EC6SKRUqBgz"
      }
    },
    {
      "cell_type": "code",
      "source": [
        "!python src/evaluate_audio_model.py -m model=\"encodec24khz,encodec48khz\" distance_fn=\"pairwise_manhattan_distance\" reduce_fn=\"glob(*time)\""
      ],
      "metadata": {
        "id": "B_jFG_RgTWUq"
      },
      "execution_count": null,
      "outputs": []
    },
    {
      "cell_type": "markdown",
      "source": [
        "evaluate openl3 models"
      ],
      "metadata": {
        "id": "jGyoUF0_5LuS"
      }
    },
    {
      "cell_type": "code",
      "source": [
        "!python src/evaluate_audio_model.py -m model=\"glob(*6144, exclude=openl3_linear*)\" distance_fn=\"pairwise_manhattan_distance\" reduce_fn=\"glob(*, exclude=*channel)\""
      ],
      "metadata": {
        "id": "Xz5r_abz9zTv"
      },
      "execution_count": null,
      "outputs": []
    },
    {
      "cell_type": "markdown",
      "source": [
        "evaluate passt models"
      ],
      "metadata": {
        "id": "tXYvIKLW5fzP"
      }
    },
    {
      "cell_type": "code",
      "source": [
        "!python src/evaluate_audio_model.py -m model=\"glob(passt_s*)\" distance_fn=\"pairwise_manhattan_distance\" reduce_fn=\"global_avg_pool_time,flatten\" ++model.encoder.features=\"base,base2level,base2levelmel\""
      ],
      "metadata": {
        "id": "u-ZartfN5h87"
      },
      "execution_count": null,
      "outputs": []
    },
    {
      "cell_type": "markdown",
      "source": [
        "Evaluate mn models\n"
      ],
      "metadata": {
        "id": "fV2LlIPiDK4T"
      }
    },
    {
      "cell_type": "code",
      "source": [
        "!python src/evaluate_audio_model.py -m model=\"glob(mn*)\" distance_fn=\"pairwise_manhattan_distance\" reduce_fn=\"global_avg_pool_time,flatten\""
      ],
      "metadata": {
        "id": "RNhwXEXhDFCH"
      },
      "execution_count": null,
      "outputs": []
    },
    {
      "cell_type": "markdown",
      "source": [
        "Evaluate CAV-MAE models"
      ],
      "metadata": {
        "id": "10IZpNC5x_n1"
      }
    },
    {
      "cell_type": "code",
      "source": [
        "!python src/evaluate_audio_model.py -m model=\"glob(cavmae*)\" distance_fn=\"pairwise_manhattan_distance\" reduce_fn=\"glob(*, exclude=*channel)\""
      ],
      "metadata": {
        "id": "-TVj798tyBo7"
      },
      "execution_count": null,
      "outputs": []
    }
  ],
  "metadata": {
    "accelerator": "GPU",
    "colab": {
      "collapsed_sections": [
        "wGj9GvDfykf-",
        "D-RQ4VlrmhGK",
        "fiUWxeUOm1sm",
        "ePZTU4nALaq0"
      ],
      "provenance": [],
      "gpuType": "T4",
      "authorship_tag": "ABX9TyP7fKlXuIZNv/44FhEsViYD",
      "include_colab_link": true
    },
    "kernelspec": {
      "display_name": "Python 3",
      "name": "python3"
    },
    "language_info": {
      "name": "python"
    }
  },
  "nbformat": 4,
  "nbformat_minor": 0
}