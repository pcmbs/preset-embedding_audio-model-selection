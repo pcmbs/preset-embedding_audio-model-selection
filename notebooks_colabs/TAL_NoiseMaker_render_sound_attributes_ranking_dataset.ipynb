{
  "nbformat": 4,
  "nbformat_minor": 0,
  "metadata": {
    "colab": {
      "provenance": [],
      "collapsed_sections": [
        "Yl7vFSkBf9iR"
      ],
      "authorship_tag": "ABX9TyOZACd8/LGVBFXf31zlyn26",
      "include_colab_link": true
    },
    "kernelspec": {
      "name": "python3",
      "display_name": "Python 3"
    },
    "language_info": {
      "name": "python"
    }
  },
  "cells": [
    {
      "cell_type": "markdown",
      "metadata": {
        "id": "view-in-github",
        "colab_type": "text"
      },
      "source": [
        "<a href=\"https://colab.research.google.com/github/pcmbs/preset-embedding_audio-model-colab/blob/main/notebooks_colabs/TAL_NoiseMaker_render_sound_attributes_ranking_dataset.ipynb\" target=\"_parent\"><img src=\"https://colab.research.google.com/assets/colab-badge.svg\" alt=\"Open In Colab\"/></a>"
      ]
    },
    {
      "cell_type": "markdown",
      "source": [
        "# Setup"
      ],
      "metadata": {
        "id": "Yl7vFSkBf9iR"
      }
    },
    {
      "cell_type": "markdown",
      "source": [
        "Download TAL-NoiseMaker and presets"
      ],
      "metadata": {
        "id": "NHHVTmMtfk3i"
      }
    },
    {
      "cell_type": "code",
      "execution_count": null,
      "metadata": {
        "colab": {
          "base_uri": "https://localhost:8080/"
        },
        "id": "yJyT-Bbmeus0",
        "outputId": "e464d628-6c88-429c-eb83-9d4ab41327e8"
      },
      "outputs": [
        {
          "output_type": "stream",
          "name": "stdout",
          "text": [
            "--2023-07-26 09:18:47--  https://tal-software.com/downloads/plugins/TAL-NoiseMaker_64_linux.zip\n",
            "Resolving tal-software.com (tal-software.com)... 172.67.167.238, 104.21.13.116, 2606:4700:3037::6815:d74, ...\n",
            "Connecting to tal-software.com (tal-software.com)|172.67.167.238|:443... connected.\n",
            "HTTP request sent, awaiting response... 200 OK\n",
            "Length: 7144872 (6.8M) [application/x-zip-compressed]\n",
            "Saving to: ‘TAL-NoiseMaker_64_linux.zip’\n",
            "\n",
            "TAL-NoiseMaker_64_l 100%[===================>]   6.81M  6.23MB/s    in 1.1s    \n",
            "\n",
            "2023-07-26 09:18:50 (6.23 MB/s) - ‘TAL-NoiseMaker_64_linux.zip’ saved [7144872/7144872]\n",
            "\n",
            "Archive:  TAL-NoiseMaker_64_linux.zip\n",
            "  inflating: TAL-NoiseMaker/ReadmeLinux.txt  \n",
            "  inflating: TAL-NoiseMaker/TAL-NoiseMaker.clap  \n",
            "   creating: TAL-NoiseMaker/TAL-NoiseMaker.vst3/\n",
            "   creating: TAL-NoiseMaker/TAL-NoiseMaker.vst3/Contents/\n",
            "   creating: TAL-NoiseMaker/TAL-NoiseMaker.vst3/Contents/x86_64-linux/\n",
            "  inflating: TAL-NoiseMaker/TAL-NoiseMaker.vst3/Contents/x86_64-linux/TAL-NoiseMaker.so  \n",
            "  inflating: TAL-NoiseMaker/libTAL-NoiseMaker.so  \n"
          ]
        }
      ],
      "source": [
        "!wget -c https://tal-software.com/downloads/plugins/TAL-NoiseMaker_64_linux.zip && unzip -o TAL-NoiseMaker_64_linux.zip && rm TAL-NoiseMaker_64_linux.zip"
      ]
    },
    {
      "cell_type": "markdown",
      "source": [
        "Install dawdreamer"
      ],
      "metadata": {
        "id": "nCktvKaWgAtb"
      }
    },
    {
      "cell_type": "code",
      "source": [
        "!pip install dawdreamer"
      ],
      "metadata": {
        "colab": {
          "base_uri": "https://localhost:8080/"
        },
        "id": "72LyaYIbgDpX",
        "outputId": "1cc1a516-4177-4c99-c1c8-9540e465e75a"
      },
      "execution_count": null,
      "outputs": [
        {
          "output_type": "stream",
          "name": "stdout",
          "text": [
            "Collecting dawdreamer\n",
            "  Downloading dawdreamer-0.7.1-cp310-cp310-manylinux_2_17_x86_64.manylinux2014_x86_64.whl (44.1 MB)\n",
            "\u001b[2K     \u001b[90m━━━━━━━━━━━━━━━━━━━━━━━━━━━━━━━━━━━━━━━━\u001b[0m \u001b[32m44.1/44.1 MB\u001b[0m \u001b[31m12.7 MB/s\u001b[0m eta \u001b[36m0:00:00\u001b[0m\n",
            "\u001b[?25hInstalling collected packages: dawdreamer\n",
            "Successfully installed dawdreamer-0.7.1\n"
          ]
        }
      ]
    },
    {
      "cell_type": "markdown",
      "source": [
        "Download and import presets"
      ],
      "metadata": {
        "id": "yq_G3VHX_Ays"
      }
    },
    {
      "cell_type": "code",
      "source": [
        "!gdown \"1UVZaVulQH8y0_JqwN-tXsqSD14QSKSVR\"\n",
        "\n",
        "import json\n",
        "\n",
        "with open(\"noisemaker_presets.json\", \"rb\") as f:\n",
        "    presets = json.load(f)"
      ],
      "metadata": {
        "id": "OozX-0Pz_Grk",
        "colab": {
          "base_uri": "https://localhost:8080/"
        },
        "outputId": "385d88cc-4218-4a12-e76b-cd8f579c1b7b"
      },
      "execution_count": null,
      "outputs": [
        {
          "output_type": "stream",
          "name": "stdout",
          "text": [
            "Downloading...\n",
            "From: https://drive.google.com/uc?id=1UVZaVulQH8y0_JqwN-tXsqSD14QSKSVR\n",
            "To: /content/noisemaker_presets.json\n",
            "\r  0% 0.00/1.32M [00:00<?, ?B/s]\r100% 1.32M/1.32M [00:00<00:00, 105MB/s]\n"
          ]
        }
      ]
    },
    {
      "cell_type": "markdown",
      "source": [
        "download and import TAL-NoiseMaker settings for the sound attributes ranking evaluation"
      ],
      "metadata": {
        "id": "y4DVFAmwh4lr"
      }
    },
    {
      "cell_type": "code",
      "source": [
        "!gdown \"1BJ7kC7zo8_IwnWKp3zBP2wB__4ioZPwN\""
      ],
      "metadata": {
        "id": "-tH20NJNh8w6",
        "colab": {
          "base_uri": "https://localhost:8080/"
        },
        "outputId": "189e5b26-3134-4ee2-b817-bc9ced9beb5b"
      },
      "execution_count": null,
      "outputs": [
        {
          "output_type": "stream",
          "name": "stdout",
          "text": [
            "Downloading...\n",
            "From: https://drive.google.com/uc?id=1BJ7kC7zo8_IwnWKp3zBP2wB__4ioZPwN\n",
            "To: /content/noisemaker_preset_mods.py\n",
            "\r  0% 0.00/33.1k [00:00<?, ?B/s]\r100% 33.1k/33.1k [00:00<00:00, 43.7MB/s]\n"
          ]
        }
      ]
    },
    {
      "cell_type": "markdown",
      "source": [
        "# Classes & Functions definition"
      ],
      "metadata": {
        "id": "ytt1MGRuiDOw"
      }
    },
    {
      "cell_type": "markdown",
      "source": [
        "class PresetRenderer: Class to rendered audio from TAL-Noisemaker using DawDreamer.\n"
      ],
      "metadata": {
        "id": "fYRjquGXfxLC"
      }
    },
    {
      "cell_type": "code",
      "source": [
        "from pathlib import Path\n",
        "from typing import List, Union, Sequence\n",
        "import dawdreamer as daw\n",
        "import numpy as np\n",
        "\n",
        "class PresetRenderer:\n",
        "    \"\"\"\n",
        "    Class to rendered audio from TAL-Noisemaker using DawDreamer.\n",
        "    \"\"\"\n",
        "\n",
        "    def __init__(\n",
        "        self,\n",
        "        synth_path: str = \"TAL-NoiseMaker/TAL-NoiseMaker.vst3\",\n",
        "        sample_rate: int = 44_100,\n",
        "        render_duration_s: float = 4,\n",
        "        fadeout_duration_s: float = 0.1,\n",
        "        export_to_mono: bool = True,\n",
        "        normalize_audio: bool = False,\n",
        "    ):\n",
        "        ### Paths and name related member variables\n",
        "        self.synth_path = synth_path\n",
        "        self.synth_name = Path(self.synth_path).stem\n",
        "\n",
        "        ### DawDreamer related member variables\n",
        "        self.sample_rate = sample_rate\n",
        "        self.render_duration_s = render_duration_s  # rendering time in seconds\n",
        "        self.engine = daw.RenderEngine(self.sample_rate, block_size = 128)  # pylint: disable=E1101\n",
        "        self.synth = self.engine.make_plugin_processor(self.synth_name, self.synth_path)\n",
        "\n",
        "        ### MIDI related member variables\n",
        "        self.midi_note: int\n",
        "        self.midi_note_velocity: int\n",
        "        self.midi_note_start: float\n",
        "        self.midi_note_duration_s: float\n",
        "\n",
        "        ### Rendering relative member variables\n",
        "        # fadeout\n",
        "        self.fadeout_duration_s = fadeout_duration_s\n",
        "        self.fadeout_len = int(self.sample_rate * self.fadeout_duration_s)\n",
        "        # avoid multiplication with an empty array (from linspace) if no fadeout_duration_s = 0\n",
        "        if self.fadeout_len > 0:\n",
        "            self.fadeout = np.linspace(1, 0, self.fadeout_len)\n",
        "        else:  # hard-coding if fadeout_duration_s = 0\n",
        "            self.fadeout = 1.0\n",
        "\n",
        "        # export to mono\n",
        "        self.export_to_mono = export_to_mono\n",
        "\n",
        "        # normalize\n",
        "        self.normalize_audio = normalize_audio\n",
        "\n",
        "\n",
        "    def assign_preset(self, preset: list[dict]) -> None:\n",
        "        \"\"\"\n",
        "        Assign a preset to the synthesizer.\n",
        "        \"\"\"\n",
        "        self.current_preset = preset  # update instance's current parameters\n",
        "\n",
        "        # individually set each parameters since DawDreamer does not accept\n",
        "        # list of tuples (param_idx, value)\n",
        "        for param in self.current_preset:\n",
        "            self.synth.set_parameter(param[\"index\"], param[\"value\"])\n",
        "\n",
        "    def set_midi_parameters(\n",
        "        self,\n",
        "        midi_note: int = 60,\n",
        "        midi_note_velocity: int = 100,\n",
        "        midi_note_start: float = 0.0,\n",
        "        midi_note_duration: float = 2,\n",
        "    ):\n",
        "        \"\"\"\n",
        "        Set the instance's midi parameters.\n",
        "        \"\"\"\n",
        "        self.midi_note = midi_note\n",
        "        self.midi_note_velocity = midi_note_velocity\n",
        "        self.midi_note_start = midi_note_start\n",
        "        self.midi_note_duration_s = midi_note_duration\n",
        "\n",
        "        # Generate a MIDI note, specifying a start time and duration, both in seconds\n",
        "        self.synth.add_midi_note(\n",
        "            self.midi_note, self.midi_note_velocity, self.midi_note_start, self.midi_note_duration_s\n",
        "        )\n",
        "\n",
        "    def render_note(self) -> Sequence:\n",
        "        \"\"\"\n",
        "        Renders a midi note (for the currently set patch) and returns the generated audio as ndarray.\n",
        "        \"\"\"\n",
        "\n",
        "        if self.current_preset is None:\n",
        "            raise ValueError(\"No preset has been set yet. Please use `assign_preset()` first.\")\n",
        "\n",
        "        graph = [(self.synth, [])]  # Generate DAG of processes\n",
        "        self.engine.load_graph(graph)  # load a DAG of processors\n",
        "        self.engine.render(self.render_duration_s)  # Render audio.\n",
        "        audio = self.engine.get_audio()  # get audio\n",
        "        if self.export_to_mono:  # convert to mono if required\n",
        "            audio = np.mean(audio, axis=0, keepdims=True)\n",
        "        if self.normalize_audio:  # normalize audio if required\n",
        "            audio = audio / np.max(np.abs(audio))\n",
        "        audio[..., -self.fadeout_len :] = audio[..., -self.fadeout_len :] * self.fadeout  # fadeout\n",
        "\n",
        "        return audio"
      ],
      "metadata": {
        "id": "-rscBXE0iFdX"
      },
      "execution_count": null,
      "outputs": []
    },
    {
      "cell_type": "code",
      "source": [
        "from typing import Tuple, Optional\n",
        "from noisemaker_preset_mods import PresetModList\n",
        "\n",
        "def generate_eval_audio(renderer: PresetRenderer,\n",
        "                        sound_attribute: PresetModList,\n",
        "                        current_preset_idx: Optional[int] = None,\n",
        "                        num_samples: int = 10,\n",
        "                        ) -> Tuple[List[np.ndarray], List[str]]:\n",
        "\n",
        "    # initialize list to store the rendered audio\n",
        "    output = []\n",
        "    # intialize a list to store the file names of the rendered audio\n",
        "    filenames = []\n",
        "\n",
        "    sound_attribute_str = sound_attribute.sound_attribute\n",
        "\n",
        "    if current_preset_idx is not None:\n",
        "        preset_mods_to_render = [sound_attribute.preset_mods[current_preset_idx]]\n",
        "        preset_indices = [current_preset_idx]\n",
        "    else:\n",
        "        preset_mods_to_render = sound_attribute.preset_mods\n",
        "        preset_indices = np.arange(len(preset_mods_to_render))\n",
        "\n",
        "    for p_idx, p in zip(preset_indices, preset_mods_to_render):\n",
        "\n",
        "        # assign base preset to generate audio\n",
        "        renderer.assign_preset(presets[p.preset])\n",
        "\n",
        "        # index of the main parameter\n",
        "        main_param_idx = p.param_idx if p.param_idx else sound_attribute.param_idx\n",
        "\n",
        "        # generate `num_samples` linearly equally spaced values for the main parameter\n",
        "        main_param_values = np.linspace(*p.interval, num_samples)\n",
        "\n",
        "        # set extra parameters\n",
        "\n",
        "        extra_params = sound_attribute.extra_params\n",
        "        if p.extra_params:\n",
        "            extra_params += p.extra_params\n",
        "        for param in extra_params:\n",
        "            renderer.synth.set_parameter(*param)\n",
        "\n",
        "\n",
        "        # generate an output for each parameter value and append it to the output list\n",
        "        for val_idx, val in enumerate(main_param_values):\n",
        "\n",
        "            renderer.synth.set_parameter(main_param_idx, val)\n",
        "\n",
        "            output.append(renderer.render_note())\n",
        "            filenames.append(f\"{sound_attribute_str}-{p_idx}-{val_idx}.wav\")\n",
        "\n",
        "    return output, filenames"
      ],
      "metadata": {
        "id": "3FzC7pkvQtXK"
      },
      "execution_count": null,
      "outputs": []
    },
    {
      "cell_type": "markdown",
      "source": [
        "# Export evaluation data as files"
      ],
      "metadata": {
        "id": "3OxTTJyDpmDZ"
      }
    },
    {
      "cell_type": "code",
      "source": [
        "!rm -r sound_attributes_ranking_dataset\n",
        "\n",
        "from timeit import default_timer\n",
        "from pathlib import Path\n",
        "from scipy.io import wavfile\n",
        "import noisemaker_preset_mods as npm\n",
        "\n",
        "EXPORT_PATH = Path(\"sound_attributes_ranking_dataset\")\n",
        "EXPORT_PATH.mkdir()\n",
        "\n",
        "SAMPLE_RATE = 44_100\n",
        "\n",
        "MIDI_NOTE_CC = 60\n",
        "MIDI_NOTE_VEL = 100\n",
        "MIDI_NOTE_START = 0.0\n",
        "MIDI_NOTE_DUR = 2\n",
        "\n",
        "NUM_SAMPLES = 10\n",
        "\n",
        "print(f\"Generating `sound_attributes_ranking_dataset` with the following parameters:\\n\"\n",
        "      f\"- sample rate: {SAMPLE_RATE}\\n\"\n",
        "      f\"- num samples: {NUM_SAMPLES}\\n\"\n",
        "      f\"- midi note CC: {MIDI_NOTE_CC}\\n\"\n",
        "      f\"- midi note VEL: {MIDI_NOTE_VEL}\\n\"\n",
        "      f\"- midi note START: {MIDI_NOTE_START}\\n\"\n",
        "      f\"- midi note DUR: {MIDI_NOTE_DUR}\\n\\n\")\n",
        "\n",
        "renderer = PresetRenderer(sample_rate=SAMPLE_RATE)\n",
        "renderer.set_midi_parameters(MIDI_NOTE_CC, MIDI_NOTE_VEL, MIDI_NOTE_START, MIDI_NOTE_DUR)\n",
        "\n",
        "for sound_attribute in npm.SOUND_ATTRIBUTES:\n",
        "    print(f\"Exporting audio for `{sound_attribute}`...\")\n",
        "    start = default_timer()\n",
        "\n",
        "    current_attribute = getattr(npm, sound_attribute)\n",
        "\n",
        "    path_to_attribute = EXPORT_PATH / current_attribute.sound_attribute\n",
        "    path_to_attribute.mkdir()\n",
        "\n",
        "    for i, preset in enumerate(current_attribute.preset_mods):\n",
        "        path_to_preset = path_to_attribute / str(i)\n",
        "        path_to_preset.mkdir()\n",
        "\n",
        "        output, filenames = generate_eval_audio(renderer, current_attribute, i, NUM_SAMPLES)\n",
        "\n",
        "        for audio, filename in zip(output, filenames):\n",
        "            wavfile.write(path_to_preset / filename, SAMPLE_RATE, audio.reshape(-1,1))\n",
        "\n",
        "    print(f\"Audio for `{sound_attribute}` exported in {default_timer() - start:.2f} seconds\")\n",
        "\n",
        "\n",
        "!zip -q -r sound_attributes_ranking_dataset.zip sound_attributes_ranking_dataset"
      ],
      "metadata": {
        "colab": {
          "base_uri": "https://localhost:8080/"
        },
        "id": "UAK478sgAnt5",
        "outputId": "8ad9d040-be0e-4b77-848d-1b2d1e95e0a6"
      },
      "execution_count": null,
      "outputs": [
        {
          "output_type": "stream",
          "name": "stdout",
          "text": [
            "Generating `sound_attributes_ranking_dataset` with the following parameters:\n",
            "- sample rate: 44100\n",
            "- num samples: 10\n",
            "- midi note CC: 60\n",
            "- midi note VEL: 100\n",
            "- midi note START: 0.0\n",
            "- midi note DUR: 2\n",
            "\n",
            "\n",
            "Exporting audio for `amp_attack`...\n",
            "Audio for `amp_attack` exported in 59.80 seconds\n",
            "Exporting audio for `amp_decay`...\n",
            "Audio for `amp_decay` exported in 60.64 seconds\n",
            "Exporting audio for `filter_cutoff`...\n",
            "Audio for `filter_cutoff` exported in 60.21 seconds\n",
            "Exporting audio for `filter_decay`...\n",
            "Audio for `filter_decay` exported in 60.57 seconds\n",
            "Exporting audio for `filter_resonance`...\n",
            "Audio for `filter_resonance` exported in 60.16 seconds\n",
            "Exporting audio for `frequency_mod`...\n",
            "Audio for `frequency_mod` exported in 61.64 seconds\n",
            "Exporting audio for `lfo_amount_on_amp`...\n",
            "Audio for `lfo_amount_on_amp` exported in 64.70 seconds\n",
            "Exporting audio for `lfo_amount_on_filter`...\n",
            "Audio for `lfo_amount_on_filter` exported in 59.43 seconds\n",
            "Exporting audio for `lfo_amount_on_pitch`...\n",
            "Audio for `lfo_amount_on_pitch` exported in 62.91 seconds\n",
            "Exporting audio for `lfo_rate_on_amp`...\n",
            "Audio for `lfo_rate_on_amp` exported in 64.02 seconds\n",
            "Exporting audio for `lfo_rate_on_filter`...\n",
            "Audio for `lfo_rate_on_filter` exported in 58.87 seconds\n",
            "Exporting audio for `lfo_rate_on_pitch`...\n",
            "Audio for `lfo_rate_on_pitch` exported in 61.88 seconds\n",
            "Exporting audio for `pitch_coarse`...\n",
            "Audio for `pitch_coarse` exported in 61.72 seconds\n",
            "Exporting audio for `reverb_wet`...\n",
            "Audio for `reverb_wet` exported in 62.46 seconds\n"
          ]
        }
      ]
    },
    {
      "cell_type": "code",
      "source": [],
      "metadata": {
        "id": "H1rZR9g_cBFf"
      },
      "execution_count": null,
      "outputs": []
    }
  ]
}