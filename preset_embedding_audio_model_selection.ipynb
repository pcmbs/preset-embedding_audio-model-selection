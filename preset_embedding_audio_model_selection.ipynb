{
  "nbformat": 4,
  "nbformat_minor": 0,
  "metadata": {
    "colab": {
      "provenance": [],
      "gpuType": "T4",
      "authorship_tag": "ABX9TyPpdbzxTkAuKpSKqEGYjwFd",
      "include_colab_link": true
    },
    "kernelspec": {
      "name": "python3",
      "display_name": "Python 3"
    },
    "language_info": {
      "name": "python"
    }
  },
  "cells": [
    {
      "cell_type": "markdown",
      "metadata": {
        "id": "view-in-github",
        "colab_type": "text"
      },
      "source": [
        "<a href=\"https://colab.research.google.com/github/pcmbs/preset-embedding_audio-model-colab/blob/main/preset_embedding_audio_model_selection.ipynb\" target=\"_parent\"><img src=\"https://colab.research.google.com/assets/colab-badge.svg\" alt=\"Open In Colab\"/></a>"
      ]
    },
    {
      "cell_type": "markdown",
      "source": [
        "# Setup"
      ],
      "metadata": {
        "id": "wGj9GvDfykf-"
      }
    },
    {
      "cell_type": "code",
      "source": [
        "# download .env file\n",
        "!gdown \"12ctXEf6BFTb-eCLrgecLuWdQVM8_P85G\""
      ],
      "metadata": {
        "colab": {
          "base_uri": "https://localhost:8080/"
        },
        "id": "z58REli_1DSU",
        "outputId": "81140ff8-7554-4489-f617-bdc807bc3888"
      },
      "execution_count": 1,
      "outputs": [
        {
          "output_type": "stream",
          "name": "stdout",
          "text": [
            "Downloading...\n",
            "From: https://drive.google.com/uc?id=12ctXEf6BFTb-eCLrgecLuWdQVM8_P85G\n",
            "To: /content/.env\n",
            "\r  0% 0.00/3.81k [00:00<?, ?B/s]\r100% 3.81k/3.81k [00:00<00:00, 23.6MB/s]\n"
          ]
        }
      ]
    },
    {
      "cell_type": "code",
      "execution_count": null,
      "metadata": {
        "colab": {
          "base_uri": "https://localhost:8080/"
        },
        "id": "NYsqjdSBegMI",
        "outputId": "d8cd5013-3157-460a-fcf1-7345bf9c51f9"
      },
      "outputs": [
        {
          "output_type": "stream",
          "name": "stdout",
          "text": [
            "Downloading...\n",
            "From: https://drive.google.com/uc?id=1720jJyIB1BAVoGg5Caq1SF78Gy4vZuEt\n",
            "To: /content/preset-embedding_audio-model-colab/data/nsynth-lite.zip\n",
            "100% 1.65G/1.65G [00:22<00:00, 72.9MB/s]\n"
          ]
        }
      ],
      "source": [
        "# download nsynth-lite\n",
        "!mkdir data && cd data && gdown \"1720jJyIB1BAVoGg5Caq1SF78Gy4vZuEt\" && unzip -q -o nsynth-lite.zip && rm nsynth-lite.zip && rm -r __MACOSX"
      ]
    },
    {
      "cell_type": "code",
      "source": [
        "# clone GitHub repo\n",
        "!pip install python-dotenv --quiet\n",
        "import dotenv\n",
        "import os\n",
        "dotenv.load_dotenv(\".env\")\n",
        "key = os.getenv(\"RSA_KEY\")\n",
        "\n",
        "!mkdir -p /root/.ssh\n",
        "with open(\"/root/.ssh/id_rsa\", \"w\", encoding=\"utf8\") as fh:\n",
        "  fh.write(key)\n",
        "!ssh-keyscan github.com >> /root/.ssh/known_hosts\n",
        "!chmod 600 /root/.ssh/id_rsa\n",
        "!ssh -T git@github.com\n",
        "!git clone git@github.com:pcmbs/preset-embedding_audio-model-colab.git\n",
        "\n",
        "# change current directory\n",
        "%cd /content/preset-embedding_audio-model-colab"
      ],
      "metadata": {
        "colab": {
          "base_uri": "https://localhost:8080/"
        },
        "id": "U69TDEVvWGCr",
        "outputId": "137db563-2b8c-4943-de16-5200b6037570"
      },
      "execution_count": 3,
      "outputs": [
        {
          "output_type": "stream",
          "name": "stdout",
          "text": [
            "# github.com:22 SSH-2.0-babeld-dc5ec9be\n",
            "# github.com:22 SSH-2.0-babeld-dc5ec9be\n",
            "# github.com:22 SSH-2.0-babeld-dc5ec9be\n",
            "# github.com:22 SSH-2.0-babeld-4a94ee6b\n",
            "# github.com:22 SSH-2.0-babeld-dc5ec9be\n",
            "Warning: Permanently added the ECDSA host key for IP address '140.82.113.4' to the list of known hosts.\n",
            "Hi pcmbs/preset-embedding_audio-model-colab! You've successfully authenticated, but GitHub does not provide shell access.\n",
            "Cloning into 'preset-embedding_audio-model-colab'...\n",
            "Warning: Permanently added the ECDSA host key for IP address '140.82.112.4' to the list of known hosts.\n",
            "remote: Enumerating objects: 106, done.\u001b[K\n",
            "remote: Counting objects: 100% (46/46), done.\u001b[K\n",
            "remote: Compressing objects: 100% (32/32), done.\u001b[K\n",
            "remote: Total 106 (delta 16), reused 39 (delta 11), pack-reused 60\u001b[K\n",
            "Receiving objects: 100% (106/106), 52.78 MiB | 35.91 MiB/s, done.\n",
            "Resolving deltas: 100% (18/18), done.\n",
            "/content/preset-embedding_audio-model-colab\n"
          ]
        }
      ]
    },
    {
      "cell_type": "code",
      "source": [
        "!pip install -r requirements.txt --quiet"
      ],
      "metadata": {
        "colab": {
          "base_uri": "https://localhost:8080/"
        },
        "id": "JuThrTW3YklA",
        "outputId": "bd2fc1ef-505d-4b79-80c8-86efc51987f9"
      },
      "execution_count": 3,
      "outputs": [
        {
          "output_type": "stream",
          "name": "stdout",
          "text": [
            "\u001b[2K     \u001b[90m━━━━━━━━━━━━━━━━━━━━━━━━━━━━━━━━━━━━━━━━\u001b[0m \u001b[32m44.1/44.1 MB\u001b[0m \u001b[31m17.0 MB/s\u001b[0m eta \u001b[36m0:00:00\u001b[0m\n",
            "\u001b[2K     \u001b[90m━━━━━━━━━━━━━━━━━━━━━━━━━━━━━━━━━━━━━━━━\u001b[0m \u001b[32m42.2/42.2 kB\u001b[0m \u001b[31m4.9 MB/s\u001b[0m eta \u001b[36m0:00:00\u001b[0m\n",
            "\u001b[2K     \u001b[90m━━━━━━━━━━━━━━━━━━━━━━━━━━━━━━━━━━━━━━━━\u001b[0m \u001b[32m65.7/65.7 kB\u001b[0m \u001b[31m2.9 MB/s\u001b[0m eta \u001b[36m0:00:00\u001b[0m\n",
            "\u001b[2K     \u001b[90m━━━━━━━━━━━━━━━━━━━━━━━━━━━━━━━━━━━━━━\u001b[0m \u001b[32m154.5/154.5 kB\u001b[0m \u001b[31m18.6 MB/s\u001b[0m eta \u001b[36m0:00:00\u001b[0m\n",
            "\u001b[2K     \u001b[90m━━━━━━━━━━━━━━━━━━━━━━━━━━━━━━━━━━━━━━━━\u001b[0m \u001b[32m79.5/79.5 kB\u001b[0m \u001b[31m8.6 MB/s\u001b[0m eta \u001b[36m0:00:00\u001b[0m\n",
            "\u001b[2K     \u001b[90m━━━━━━━━━━━━━━━━━━━━━━━━━━━━━━━━━━━━━━\u001b[0m \u001b[32m728.8/728.8 kB\u001b[0m \u001b[31m44.6 MB/s\u001b[0m eta \u001b[36m0:00:00\u001b[0m\n",
            "\u001b[2K     \u001b[90m━━━━━━━━━━━━━━━━━━━━━━━━━━━━━━━━━━━━━━━━\u001b[0m \u001b[32m2.1/2.1 MB\u001b[0m \u001b[31m60.7 MB/s\u001b[0m eta \u001b[36m0:00:00\u001b[0m\n",
            "\u001b[2K     \u001b[90m━━━━━━━━━━━━━━━━━━━━━━━━━━━━━━━━━━━━━━━━\u001b[0m \u001b[32m67.0/67.0 kB\u001b[0m \u001b[31m8.6 MB/s\u001b[0m eta \u001b[36m0:00:00\u001b[0m\n",
            "\u001b[2K     \u001b[90m━━━━━━━━━━━━━━━━━━━━━━━━━━━━━━━━━━━━━━\u001b[0m \u001b[32m117.0/117.0 kB\u001b[0m \u001b[31m10.3 MB/s\u001b[0m eta \u001b[36m0:00:00\u001b[0m\n",
            "\u001b[?25h  Preparing metadata (setup.py) ... \u001b[?25l\u001b[?25hdone\n",
            "\u001b[2K     \u001b[90m━━━━━━━━━━━━━━━━━━━━━━━━━━━━━━━━━━━━━━\u001b[0m \u001b[32m188.5/188.5 kB\u001b[0m \u001b[31m17.8 MB/s\u001b[0m eta \u001b[36m0:00:00\u001b[0m\n",
            "\u001b[2K     \u001b[90m━━━━━━━━━━━━━━━━━━━━━━━━━━━━━━━━━━━━━━\u001b[0m \u001b[32m213.2/213.2 kB\u001b[0m \u001b[31m17.3 MB/s\u001b[0m eta \u001b[36m0:00:00\u001b[0m\n",
            "\u001b[?25h  Preparing metadata (setup.py) ... \u001b[?25l\u001b[?25hdone\n",
            "\u001b[2K     \u001b[90m━━━━━━━━━━━━━━━━━━━━━━━━━━━━━━━━━━━━━━━━\u001b[0m \u001b[32m62.7/62.7 kB\u001b[0m \u001b[31m3.3 MB/s\u001b[0m eta \u001b[36m0:00:00\u001b[0m\n",
            "\u001b[?25h  Building wheel for antlr4-python3-runtime (setup.py) ... \u001b[?25l\u001b[?25hdone\n",
            "  Building wheel for pathtools (setup.py) ... \u001b[?25l\u001b[?25hdone\n"
          ]
        }
      ]
    },
    {
      "cell_type": "code",
      "source": [
        "# move .env file in project folder\n",
        "import shutil\n",
        "shutil.move(\"/content/.env\", \"/content/preset-embedding_audio-model-colab/.env\")"
      ],
      "metadata": {
        "colab": {
          "base_uri": "https://localhost:8080/",
          "height": 36
        },
        "id": "1Q4uqx14eWn-",
        "outputId": "163ce24e-bab3-42e2-ff48-9b41ee491a26"
      },
      "execution_count": 4,
      "outputs": [
        {
          "output_type": "execute_result",
          "data": {
            "text/plain": [
              "'/content/preset-embedding_audio-model-colab/.env'"
            ],
            "application/vnd.google.colaboratory.intrinsic+json": {
              "type": "string"
            }
          },
          "metadata": {},
          "execution_count": 4
        }
      ]
    },
    {
      "cell_type": "markdown",
      "source": [
        "# Code\n"
      ],
      "metadata": {
        "id": "ePZTU4nALaq0"
      }
    },
    {
      "cell_type": "code",
      "source": [
        "!python src/div_check/check_cfg.py"
      ],
      "metadata": {
        "colab": {
          "base_uri": "https://localhost:8080/"
        },
        "id": "BBMOMBcAo7d8",
        "outputId": "e98a9311-5329-4e18-e49c-bf0c489c5747"
      },
      "execution_count": 7,
      "outputs": [
        {
          "output_type": "stream",
          "name": "stdout",
          "text": [
            "seed: 667\n",
            "similarity: pairwise_cosine_similarity\n",
            "task_name: debug\n",
            "data:\n",
            "  root: /content/data/nsynth-lite\n",
            "  sources:\n",
            "  - acoustic\n",
            "  - electric\n",
            "  - synthetic\n",
            "  audio_length: 1.0\n",
            "  batch_size: 32\n",
            "  num_samples: 512\n",
            "  shuffle: true\n",
            "logger: null\n",
            "model:\n",
            "  encoder:\n",
            "    _target_: src.models.encodec.encoder.EncodecEncoder.encodec_model_48khz\n",
            "    repository: /content/preset-embedding_audio-model-colab/checkpoints\n",
            "    segment: 1.0\n",
            "    overlap: 0.0\n",
            "  name: encodec_48khz\n",
            "metrics:\n",
            "  relative_pairwise_dists:\n",
            "    num_samples: 10\n",
            "    n_neighbors: 5\n",
            "    mode:\n",
            "    - nearest\n",
            "    - linspace\n",
            "paths:\n",
            "  root_dir: /content/preset-embedding_audio-model-colab\n",
            "  data_dir: /content/data/nsynth-lite\n",
            "  log_dir: /content/preset-embedding_audio-model-colab/logs\n",
            "  ckpt_dir: /content/preset-embedding_audio-model-colab/checkpoints\n",
            "  output_dir: /content/preset-embedding_audio-model-colab\n",
            "  work_dir: /content/preset-embedding_audio-model-colab\n",
            "\n",
            "breakpoint me!\n"
          ]
        }
      ]
    }
  ]
}