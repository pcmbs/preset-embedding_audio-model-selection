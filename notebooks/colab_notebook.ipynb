{
  "nbformat": 4,
  "nbformat_minor": 0,
  "metadata": {
    "colab": {
      "provenance": [],
      "gpuType": "T4",
      "collapsed_sections": [
        "wGj9GvDfykf-"
      ],
      "authorship_tag": "ABX9TyNNPcvLyn5SXKap1bzBgqkN",
      "include_colab_link": true
    },
    "kernelspec": {
      "name": "python3",
      "display_name": "Python 3"
    },
    "language_info": {
      "name": "python"
    },
    "accelerator": "GPU"
  },
  "cells": [
    {
      "cell_type": "markdown",
      "metadata": {
        "id": "view-in-github",
        "colab_type": "text"
      },
      "source": [
        "<a href=\"https://colab.research.google.com/github/pcmbs/preset-embedding_audio-model-colab/blob/main/colab_notebook.ipynb\" target=\"_parent\"><img src=\"https://colab.research.google.com/assets/colab-badge.svg\" alt=\"Open In Colab\"/></a>"
      ]
    },
    {
      "cell_type": "markdown",
      "source": [
        "# Setup"
      ],
      "metadata": {
        "id": "wGj9GvDfykf-"
      }
    },
    {
      "cell_type": "code",
      "source": [
        "#@title\n",
        "# download .env file\n",
        "!gdown \"12ctXEf6BFTb-eCLrgecLuWdQVM8_P85G\""
      ],
      "metadata": {
        "colab": {
          "base_uri": "https://localhost:8080/"
        },
        "id": "z58REli_1DSU",
        "outputId": "de239788-6dc9-4935-e015-b9764c9caef3",
        "cellView": "form"
      },
      "execution_count": 1,
      "outputs": [
        {
          "output_type": "stream",
          "name": "stdout",
          "text": [
            "Downloading...\n",
            "From: https://drive.google.com/uc?id=12ctXEf6BFTb-eCLrgecLuWdQVM8_P85G\n",
            "To: /content/.env\n",
            "\r  0% 0.00/3.81k [00:00<?, ?B/s]\r100% 3.81k/3.81k [00:00<00:00, 22.5MB/s]\n"
          ]
        }
      ]
    },
    {
      "cell_type": "code",
      "execution_count": 2,
      "metadata": {
        "colab": {
          "base_uri": "https://localhost:8080/"
        },
        "id": "NYsqjdSBegMI",
        "outputId": "043b4bfa-654e-426c-fd22-c0cdcb0f54e0",
        "cellView": "form"
      },
      "outputs": [
        {
          "output_type": "stream",
          "name": "stdout",
          "text": [
            "Downloading...\n",
            "From: https://drive.google.com/uc?id=1720jJyIB1BAVoGg5Caq1SF78Gy4vZuEt\n",
            "To: /content/data/nsynth-lite.zip\n",
            "100% 1.65G/1.65G [00:10<00:00, 150MB/s]\n"
          ]
        }
      ],
      "source": [
        "#@title\n",
        "# download nsynth-lite\n",
        "!rm -r sample_data\n",
        "!mkdir data && cd data && gdown \"1720jJyIB1BAVoGg5Caq1SF78Gy4vZuEt\" && unzip -q -o nsynth-lite.zip && rm nsynth-lite.zip && rm -r __MACOSX"
      ]
    },
    {
      "cell_type": "code",
      "source": [
        "#@title\n",
        "# clone GitHub repo\n",
        "!pip install python-dotenv --quiet\n",
        "import dotenv\n",
        "import os\n",
        "dotenv.load_dotenv(\".env\")\n",
        "key = os.getenv(\"RSA_KEY\")\n",
        "\n",
        "!mkdir -p /root/.ssh\n",
        "with open(\"/root/.ssh/id_rsa\", \"w\", encoding=\"utf8\") as fh:\n",
        "  fh.write(key)\n",
        "!ssh-keyscan github.com >> /root/.ssh/known_hosts\n",
        "!chmod 600 /root/.ssh/id_rsa\n",
        "!ssh -T git@github.com\n",
        "!git clone git@github.com:pcmbs/preset-embedding_audio-model-colab.git\n",
        "\n",
        "# change current directory\n",
        "%cd /content/preset-embedding_audio-model-colab\n",
        "\n",
        "# move .env file in project folder\n",
        "import shutil\n",
        "shutil.move(\"/content/.env\", \"/content/preset-embedding_audio-model-colab/.env\")"
      ],
      "metadata": {
        "colab": {
          "base_uri": "https://localhost:8080/",
          "height": 352
        },
        "id": "U69TDEVvWGCr",
        "outputId": "1b22ff89-dd7a-4d3c-ab25-4b0dca838c33",
        "cellView": "form"
      },
      "execution_count": 3,
      "outputs": [
        {
          "output_type": "stream",
          "name": "stdout",
          "text": [
            "# github.com:22 SSH-2.0-babeld-c89ab1f3\n",
            "# github.com:22 SSH-2.0-babeld-dc5ec9be\n",
            "# github.com:22 SSH-2.0-babeld-4a94ee6b\n",
            "# github.com:22 SSH-2.0-babeld-dc5ec9be\n",
            "# github.com:22 SSH-2.0-babeld-dc5ec9be\n",
            "Warning: Permanently added the ECDSA host key for IP address '192.30.255.112' to the list of known hosts.\n",
            "Hi pcmbs/preset-embedding_audio-model-colab! You've successfully authenticated, but GitHub does not provide shell access.\n",
            "Cloning into 'preset-embedding_audio-model-colab'...\n",
            "Warning: Permanently added the ECDSA host key for IP address '192.30.255.113' to the list of known hosts.\n",
            "remote: Enumerating objects: 265, done.\u001b[K\n",
            "remote: Counting objects: 100% (205/205), done.\u001b[K\n",
            "remote: Compressing objects: 100% (140/140), done.\u001b[K\n",
            "remote: Total 265 (delta 92), reused 162 (delta 54), pack-reused 60\u001b[K\n",
            "Receiving objects: 100% (265/265), 52.82 MiB | 25.40 MiB/s, done.\n",
            "Resolving deltas: 100% (94/94), done.\n",
            "/content/preset-embedding_audio-model-colab\n"
          ]
        },
        {
          "output_type": "execute_result",
          "data": {
            "text/plain": [
              "'/content/preset-embedding_audio-model-colab/.env'"
            ],
            "application/vnd.google.colaboratory.intrinsic+json": {
              "type": "string"
            }
          },
          "metadata": {},
          "execution_count": 3
        }
      ]
    },
    {
      "cell_type": "code",
      "source": [
        "#@title\n",
        "!pip install -r requirements.txt --quiet"
      ],
      "metadata": {
        "colab": {
          "base_uri": "https://localhost:8080/"
        },
        "id": "JuThrTW3YklA",
        "outputId": "69f42067-aedf-4c49-ef9f-7b60f0b503c8",
        "cellView": "form"
      },
      "execution_count": 4,
      "outputs": [
        {
          "output_type": "stream",
          "name": "stdout",
          "text": [
            "\u001b[2K     \u001b[90m━━━━━━━━━━━━━━━━━━━━━━━━━━━━━━━━━━━━━━━━\u001b[0m \u001b[32m44.1/44.1 MB\u001b[0m \u001b[31m10.6 MB/s\u001b[0m eta \u001b[36m0:00:00\u001b[0m\n",
            "\u001b[2K     \u001b[90m━━━━━━━━━━━━━━━━━━━━━━━━━━━━━━━━━━━━━━━━\u001b[0m \u001b[32m42.2/42.2 kB\u001b[0m \u001b[31m5.3 MB/s\u001b[0m eta \u001b[36m0:00:00\u001b[0m\n",
            "\u001b[2K     \u001b[90m━━━━━━━━━━━━━━━━━━━━━━━━━━━━━━━━━━━━━━━━\u001b[0m \u001b[32m65.7/65.7 kB\u001b[0m \u001b[31m7.5 MB/s\u001b[0m eta \u001b[36m0:00:00\u001b[0m\n",
            "\u001b[2K     \u001b[90m━━━━━━━━━━━━━━━━━━━━━━━━━━━━━━━━━━━━━━\u001b[0m \u001b[32m154.5/154.5 kB\u001b[0m \u001b[31m19.5 MB/s\u001b[0m eta \u001b[36m0:00:00\u001b[0m\n",
            "\u001b[2K     \u001b[90m━━━━━━━━━━━━━━━━━━━━━━━━━━━━━━━━━━━━━━━━\u001b[0m \u001b[32m1.9/1.9 MB\u001b[0m \u001b[31m82.3 MB/s\u001b[0m eta \u001b[36m0:00:00\u001b[0m\n",
            "\u001b[2K     \u001b[90m━━━━━━━━━━━━━━━━━━━━━━━━━━━━━━━━━━━━━━━━\u001b[0m \u001b[32m79.5/79.5 kB\u001b[0m \u001b[31m9.0 MB/s\u001b[0m eta \u001b[36m0:00:00\u001b[0m\n",
            "\u001b[2K     \u001b[90m━━━━━━━━━━━━━━━━━━━━━━━━━━━━━━━━━━━━━━\u001b[0m \u001b[32m728.8/728.8 kB\u001b[0m \u001b[31m48.1 MB/s\u001b[0m eta \u001b[36m0:00:00\u001b[0m\n",
            "\u001b[2K     \u001b[90m━━━━━━━━━━━━━━━━━━━━━━━━━━━━━━━━━━━━━━━━\u001b[0m \u001b[32m2.1/2.1 MB\u001b[0m \u001b[31m74.3 MB/s\u001b[0m eta \u001b[36m0:00:00\u001b[0m\n",
            "\u001b[2K     \u001b[90m━━━━━━━━━━━━━━━━━━━━━━━━━━━━━━━━━━━━━━━━\u001b[0m \u001b[32m67.0/67.0 kB\u001b[0m \u001b[31m8.8 MB/s\u001b[0m eta \u001b[36m0:00:00\u001b[0m\n",
            "\u001b[2K     \u001b[90m━━━━━━━━━━━━━━━━━━━━━━━━━━━━━━━━━━━━━━\u001b[0m \u001b[32m117.0/117.0 kB\u001b[0m \u001b[31m14.7 MB/s\u001b[0m eta \u001b[36m0:00:00\u001b[0m\n",
            "\u001b[?25h  Preparing metadata (setup.py) ... \u001b[?25l\u001b[?25hdone\n",
            "\u001b[2K     \u001b[90m━━━━━━━━━━━━━━━━━━━━━━━━━━━━━━━━━━━━━━━━\u001b[0m \u001b[32m66.4/66.4 kB\u001b[0m \u001b[31m7.5 MB/s\u001b[0m eta \u001b[36m0:00:00\u001b[0m\n",
            "\u001b[2K     \u001b[90m━━━━━━━━━━━━━━━━━━━━━━━━━━━━━━━━━━━━━━━━\u001b[0m \u001b[32m70.7/70.7 kB\u001b[0m \u001b[31m7.8 MB/s\u001b[0m eta \u001b[36m0:00:00\u001b[0m\n",
            "\u001b[2K     \u001b[90m━━━━━━━━━━━━━━━━━━━━━━━━━━━━━━━━━━━━━━\u001b[0m \u001b[32m596.7/596.7 kB\u001b[0m \u001b[31m36.8 MB/s\u001b[0m eta \u001b[36m0:00:00\u001b[0m\n",
            "\u001b[2K     \u001b[90m━━━━━━━━━━━━━━━━━━━━━━━━━━━━━━━━━━━━━━━━\u001b[0m \u001b[32m45.7/45.7 kB\u001b[0m \u001b[31m4.2 MB/s\u001b[0m eta \u001b[36m0:00:00\u001b[0m\n",
            "\u001b[2K     \u001b[90m━━━━━━━━━━━━━━━━━━━━━━━━━━━━━━━━━━━━━━━━\u001b[0m \u001b[32m58.3/58.3 kB\u001b[0m \u001b[31m4.4 MB/s\u001b[0m eta \u001b[36m0:00:00\u001b[0m\n",
            "\u001b[2K     \u001b[90m━━━━━━━━━━━━━━━━━━━━━━━━━━━━━━━━━━━━━━\u001b[0m \u001b[32m129.9/129.9 kB\u001b[0m \u001b[31m13.1 MB/s\u001b[0m eta \u001b[36m0:00:00\u001b[0m\n",
            "\u001b[2K     \u001b[90m━━━━━━━━━━━━━━━━━━━━━━━━━━━━━━━━━━━━━━\u001b[0m \u001b[32m722.4/722.4 kB\u001b[0m \u001b[31m45.7 MB/s\u001b[0m eta \u001b[36m0:00:00\u001b[0m\n",
            "\u001b[2K     \u001b[90m━━━━━━━━━━━━━━━━━━━━━━━━━━━━━━━━━━━━━━\u001b[0m \u001b[32m188.5/188.5 kB\u001b[0m \u001b[31m19.9 MB/s\u001b[0m eta \u001b[36m0:00:00\u001b[0m\n",
            "\u001b[2K     \u001b[90m━━━━━━━━━━━━━━━━━━━━━━━━━━━━━━━━━━━━━━\u001b[0m \u001b[32m213.2/213.2 kB\u001b[0m \u001b[31m23.7 MB/s\u001b[0m eta \u001b[36m0:00:00\u001b[0m\n",
            "\u001b[?25h  Preparing metadata (setup.py) ... \u001b[?25l\u001b[?25hdone\n",
            "\u001b[2K     \u001b[90m━━━━━━━━━━━━━━━━━━━━━━━━━━━━━━━━━━━━━━━━\u001b[0m \u001b[32m62.7/62.7 kB\u001b[0m \u001b[31m8.8 MB/s\u001b[0m eta \u001b[36m0:00:00\u001b[0m\n",
            "\u001b[2K     \u001b[90m━━━━━━━━━━━━━━━━━━━━━━━━━━━━━━━━━━━━━━━━\u001b[0m \u001b[32m58.4/58.4 kB\u001b[0m \u001b[31m8.6 MB/s\u001b[0m eta \u001b[36m0:00:00\u001b[0m\n",
            "\u001b[2K     \u001b[90m━━━━━━━━━━━━━━━━━━━━━━━━━━━━━━━━━━━━━━━━\u001b[0m \u001b[32m58.3/58.3 kB\u001b[0m \u001b[31m8.5 MB/s\u001b[0m eta \u001b[36m0:00:00\u001b[0m\n",
            "\u001b[?25h  Building wheel for antlr4-python3-runtime (setup.py) ... \u001b[?25l\u001b[?25hdone\n",
            "  Building wheel for pathtools (setup.py) ... \u001b[?25l\u001b[?25hdone\n"
          ]
        }
      ]
    },
    {
      "cell_type": "markdown",
      "source": [
        "# Code\n"
      ],
      "metadata": {
        "id": "ePZTU4nALaq0"
      }
    },
    {
      "cell_type": "markdown",
      "source": [
        "Run the following cell to print the current yaml config"
      ],
      "metadata": {
        "id": "EragSN0p4ndg"
      }
    },
    {
      "cell_type": "code",
      "source": [
        "#@title\n",
        "\n",
        "from hydra import initialize, compose\n",
        "from hydra.core.hydra_config import HydraConfig\n",
        "from omegaconf import OmegaConf\n",
        "\n",
        "with initialize(version_base=None, config_path=\"configs\", job_name=\"print_cfg\"):\n",
        "    cfg = compose(config_name=\"evaluate_embeddings\", return_hydra_config=True)\n",
        "    cfg.hydra.job.num = 0 # arbitrary value, otherwise raise an error since missing\n",
        "    cfg.hydra.runtime.output_dir = cfg.hydra.run.dir # same as above, should be that for single run\n",
        "    HydraConfig.instance().set_config(cfg)\n",
        "    cfg_no_hydra = {k: v for k, v in cfg.items() if k != \"hydra\"} # dont print hydra config\n",
        "    print(OmegaConf.to_yaml(cfg_no_hydra, resolve=True))\n",
        ""
      ],
      "metadata": {
        "colab": {
          "base_uri": "https://localhost:8080/"
        },
        "id": "BBMOMBcAo7d8",
        "outputId": "04843811-a21e-4a3d-df31-44e6a6189888",
        "cellView": "form"
      },
      "execution_count": 5,
      "outputs": [
        {
          "output_type": "stream",
          "name": "stdout",
          "text": [
            "seed: 667\n",
            "similarity: pairwise_cosine_similarity\n",
            "task_name: encodec_48khz\n",
            "data:\n",
            "  root: /content/data/nsynth-lite\n",
            "  sources:\n",
            "  - acoustic\n",
            "  - electric\n",
            "  - synthetic\n",
            "  audio_length: 4.0\n",
            "  batch_size: 32\n",
            "  num_samples: 3072\n",
            "  shuffle: true\n",
            "logger:\n",
            "  _target_: wandb.init\n",
            "  dir: /content/preset-embedding_audio-model-colab/logs/encodec_48khz/2023-07-12_22-07-24\n",
            "  mode: online\n",
            "  id: null\n",
            "  anonymous: null\n",
            "  project: audio_model_selection\n",
            "  group: encodec_48khz\n",
            "  tags: []\n",
            "model:\n",
            "  encoder:\n",
            "    _target_: src.models.encodec.encoder.EncodecEncoder.encodec_model_48khz\n",
            "    repository: /content/preset-embedding_audio-model-colab/checkpoints\n",
            "    segment: 4.0\n",
            "    overlap: 0.0\n",
            "  name: encodec_48khz\n",
            "metrics:\n",
            "  relative_pairwise_dists:\n",
            "    num_samples: 10\n",
            "    n_neighbors: 5\n",
            "    mode:\n",
            "    - nearest\n",
            "    - linspace\n",
            "paths:\n",
            "  root_dir: /content/preset-embedding_audio-model-colab\n",
            "  data_dir: /content/data/nsynth-lite\n",
            "  log_dir: /content/preset-embedding_audio-model-colab/logs\n",
            "  ckpt_dir: /content/preset-embedding_audio-model-colab/checkpoints\n",
            "  output_dir: /content/preset-embedding_audio-model-colab/logs/encodec_48khz/2023-07-12_22-07-24\n",
            "  work_dir: /content/preset-embedding_audio-model-colab\n",
            "\n"
          ]
        }
      ]
    },
    {
      "cell_type": "code",
      "source": [
        "!python src/evaluate_embeddings.py"
      ],
      "metadata": {
        "colab": {
          "base_uri": "https://localhost:8080/"
        },
        "id": "_ATz5T9NfYGS",
        "outputId": "f0c1ef90-5a59-48f9-c296-3daf5f2dace6"
      },
      "execution_count": 5,
      "outputs": [
        {
          "output_type": "stream",
          "name": "stdout",
          "text": [
            "Global seed set to 667\n",
            "[\u001b[36m2023-07-12 22:33:00,381\u001b[0m][\u001b[34msrc.data.nsynth\u001b[0m][\u001b[32mINFO\u001b[0m] - Loading NSynth data from split train at /content/data/nsynth-lite/nsynth-train\u001b[0m\n",
            "[\u001b[36m2023-07-12 22:33:00,856\u001b[0m][\u001b[34msrc.data.nsynth\u001b[0m][\u001b[32mINFO\u001b[0m] - \tFound 12850 samples.\u001b[0m\n",
            "[\u001b[36m2023-07-12 22:33:00,926\u001b[0m][\u001b[34m__main__\u001b[0m][\u001b[32mINFO\u001b[0m] - Instantiating model <src.models.encodec.encoder.EncodecEncoder.encodec_model_48khz>\u001b[0m\n",
            "[\u001b[36m2023-07-12 22:33:01,516\u001b[0m][\u001b[34m__main__\u001b[0m][\u001b[32mINFO\u001b[0m] - Instantiating wandb logger\u001b[0m\n",
            "\u001b[34m\u001b[1mwandb\u001b[0m: (1) Create a W&B account\n",
            "\u001b[34m\u001b[1mwandb\u001b[0m: (2) Use an existing W&B account\n",
            "\u001b[34m\u001b[1mwandb\u001b[0m: (3) Don't visualize my results\n",
            "\u001b[34m\u001b[1mwandb\u001b[0m: Enter your choice: 2\n",
            "\u001b[34m\u001b[1mwandb\u001b[0m: You chose 'Use an existing W&B account'\n",
            "\u001b[34m\u001b[1mwandb\u001b[0m: Logging into wandb.ai. (Learn how to deploy a W&B server locally: https://wandb.me/wandb-server)\n",
            "\u001b[34m\u001b[1mwandb\u001b[0m: You can find your API key in your browser here: https://wandb.ai/authorize\n",
            "\u001b[34m\u001b[1mwandb\u001b[0m: Paste an API key from your profile and hit enter, or press ctrl+c to quit: \n",
            "\u001b[34m\u001b[1mwandb\u001b[0m: Appending key for api.wandb.ai to your netrc file: /root/.netrc\n",
            "\u001b[34m\u001b[1mwandb\u001b[0m: Tracking run with wandb version 0.15.5\n",
            "\u001b[34m\u001b[1mwandb\u001b[0m: Run data is saved locally in \u001b[35m\u001b[1m/content/preset-embedding_audio-model-colab/logs/encodec_48khz/2023-07-12_22-33-00/wandb/run-20230712_223310-k7w6m2h3\u001b[0m\n",
            "\u001b[34m\u001b[1mwandb\u001b[0m: Run \u001b[1m`wandb offline`\u001b[0m to turn off syncing.\n",
            "\u001b[34m\u001b[1mwandb\u001b[0m: Syncing run \u001b[33musual-bird-43\u001b[0m\n",
            "\u001b[34m\u001b[1mwandb\u001b[0m: ⭐️ View project at \u001b[34m\u001b[4mhttps://wandb.ai/pcmbs/audio_model_selection\u001b[0m\n",
            "\u001b[34m\u001b[1mwandb\u001b[0m: 🚀 View run at \u001b[34m\u001b[4mhttps://wandb.ai/pcmbs/audio_model_selection/runs/k7w6m2h3\u001b[0m\n",
            "===============================================================================================\n",
            "Layer (type:depth-idx)                        Output Shape              Param #\n",
            "===============================================================================================\n",
            "Sequential                                    [1, 128, 600]             --\n",
            "├─SConv1d: 1-1                                [1, 32, 192000]           --\n",
            "│    └─NormConv1d: 2-1                        [1, 32, 192000]           --\n",
            "│    │    └─Conv1d: 3-1                       [1, 32, 192000]           480\n",
            "│    │    └─GroupNorm: 3-2                    [1, 32, 192000]           64\n",
            "├─SEANetResnetBlock: 1-2                      [1, 32, 192000]           --\n",
            "│    └─SConv1d: 2-2                           [1, 32, 192000]           --\n",
            "│    │    └─NormConv1d: 3-3                   [1, 32, 192000]           1,120\n",
            "│    └─Sequential: 2-3                        [1, 32, 192000]           --\n",
            "│    │    └─ELU: 3-4                          [1, 32, 192000]           --\n",
            "│    │    └─SConv1d: 3-5                      [1, 16, 192000]           1,584\n",
            "│    │    └─ELU: 3-6                          [1, 16, 192000]           --\n",
            "│    │    └─SConv1d: 3-7                      [1, 32, 192000]           608\n",
            "├─ELU: 1-3                                    [1, 32, 192000]           --\n",
            "├─SConv1d: 1-4                                [1, 64, 96000]            --\n",
            "│    └─NormConv1d: 2-4                        [1, 64, 96000]            --\n",
            "│    │    └─Conv1d: 3-8                       [1, 64, 96000]            8,256\n",
            "│    │    └─GroupNorm: 3-9                    [1, 64, 96000]            128\n",
            "├─SEANetResnetBlock: 1-5                      [1, 64, 96000]            --\n",
            "│    └─SConv1d: 2-5                           [1, 64, 96000]            --\n",
            "│    │    └─NormConv1d: 3-10                  [1, 64, 96000]            4,288\n",
            "│    └─Sequential: 2-6                        [1, 64, 96000]            --\n",
            "│    │    └─ELU: 3-11                         [1, 64, 96000]            --\n",
            "│    │    └─SConv1d: 3-12                     [1, 32, 96000]            6,240\n",
            "│    │    └─ELU: 3-13                         [1, 32, 96000]            --\n",
            "│    │    └─SConv1d: 3-14                     [1, 64, 96000]            2,240\n",
            "├─ELU: 1-6                                    [1, 64, 96000]            --\n",
            "├─SConv1d: 1-7                                [1, 128, 24000]           --\n",
            "│    └─NormConv1d: 2-7                        [1, 128, 24000]           --\n",
            "│    │    └─Conv1d: 3-15                      [1, 128, 24000]           65,664\n",
            "│    │    └─GroupNorm: 3-16                   [1, 128, 24000]           256\n",
            "├─SEANetResnetBlock: 1-8                      [1, 128, 24000]           --\n",
            "│    └─SConv1d: 2-8                           [1, 128, 24000]           --\n",
            "│    │    └─NormConv1d: 3-17                  [1, 128, 24000]           16,768\n",
            "│    └─Sequential: 2-9                        [1, 128, 24000]           --\n",
            "│    │    └─ELU: 3-18                         [1, 128, 24000]           --\n",
            "│    │    └─SConv1d: 3-19                     [1, 64, 24000]            24,768\n",
            "│    │    └─ELU: 3-20                         [1, 64, 24000]            --\n",
            "│    │    └─SConv1d: 3-21                     [1, 128, 24000]           8,576\n",
            "├─ELU: 1-9                                    [1, 128, 24000]           --\n",
            "├─SConv1d: 1-10                               [1, 256, 4800]            --\n",
            "│    └─NormConv1d: 2-10                       [1, 256, 4800]            --\n",
            "│    │    └─Conv1d: 3-22                      [1, 256, 4800]            327,936\n",
            "│    │    └─GroupNorm: 3-23                   [1, 256, 4800]            512\n",
            "├─SEANetResnetBlock: 1-11                     [1, 256, 4800]            --\n",
            "│    └─SConv1d: 2-11                          [1, 256, 4800]            --\n",
            "│    │    └─NormConv1d: 3-24                  [1, 256, 4800]            66,304\n",
            "│    └─Sequential: 2-12                       [1, 256, 4800]            --\n",
            "│    │    └─ELU: 3-25                         [1, 256, 4800]            --\n",
            "│    │    └─SConv1d: 3-26                     [1, 128, 4800]            98,688\n",
            "│    │    └─ELU: 3-27                         [1, 128, 4800]            --\n",
            "│    │    └─SConv1d: 3-28                     [1, 256, 4800]            33,536\n",
            "├─ELU: 1-12                                   [1, 256, 4800]            --\n",
            "├─SConv1d: 1-13                               [1, 512, 600]             --\n",
            "│    └─NormConv1d: 2-13                       [1, 512, 600]             --\n",
            "│    │    └─Conv1d: 3-29                      [1, 512, 600]             2,097,664\n",
            "│    │    └─GroupNorm: 3-30                   [1, 512, 600]             1,024\n",
            "├─SLSTM: 1-14                                 [1, 512, 600]             --\n",
            "│    └─LSTM: 2-14                             [600, 1, 512]             4,202,496\n",
            "├─ELU: 1-15                                   [1, 512, 600]             --\n",
            "├─SConv1d: 1-16                               [1, 128, 600]             --\n",
            "│    └─NormConv1d: 2-15                       [1, 128, 600]             --\n",
            "│    │    └─Conv1d: 3-31                      [1, 128, 600]             458,880\n",
            "│    │    └─GroupNorm: 3-32                   [1, 128, 600]             256\n",
            "===============================================================================================\n",
            "Total params: 7,428,336\n",
            "Trainable params: 7,428,336\n",
            "Non-trainable params: 0\n",
            "Total mult-adds (G): 12.02\n",
            "===============================================================================================\n",
            "Input size (MB): 1.54\n",
            "Forward/backward pass size (MB): 937.57\n",
            "Params size (MB): 29.71\n",
            "Estimated Total Size (MB): 968.82\n",
            "===============================================================================================\n",
            "Computing embeddings:   0% 0/96 [00:00<?, ?it/s]/usr/local/lib/python3.10/dist-packages/torchaudio/backend/sox_io_backend.py:235: UserWarning: File-like object support in sox_io backend is deprecated, and will be removed in v2.1. See https://github.com/pytorch/audio/issues/2950 for the detail.Please migrate to the new dispatcher, or use soundfile backend.\n",
            "  warnings.warn(_deprecation_message)\n",
            "Computing embeddings: 100% 96/96 [02:07<00:00,  1.33s/it]\n",
            "[\u001b[36m2023-07-12 22:35:20,217\u001b[0m][\u001b[34m__main__\u001b[0m][\u001b[32mINFO\u001b[0m] - Embeddings shape: 76800\u001b[0m\n",
            "[\u001b[36m2023-07-12 22:35:20,218\u001b[0m][\u001b[34m__main__\u001b[0m][\u001b[32mINFO\u001b[0m] - Computing distance matrix using pairwise_cosine_similarity...\u001b[0m\n",
            "[\u001b[36m2023-07-12 22:35:20,273\u001b[0m][\u001b[34m__main__\u001b[0m][\u001b[32mINFO\u001b[0m] - Computing and logging relative pairwise distances based metrics\u001b[0m\n",
            "[\u001b[36m2023-07-12 22:35:24,150\u001b[0m][\u001b[34m__main__\u001b[0m][\u001b[32mINFO\u001b[0m] - Logging hyperparameters...\u001b[0m\n",
            "\u001b[34m\u001b[1mwandb\u001b[0m: \u001b[33mWARNING\u001b[0m Symlinked 3 files into the W&B run directory, call wandb.save again to sync new files.\n",
            "\u001b[34m\u001b[1mwandb\u001b[0m: Waiting for W&B process to finish... \u001b[32m(success).\u001b[0m\n",
            "\u001b[34m\u001b[1mwandb\u001b[0m: 🚀 View run \u001b[33musual-bird-43\u001b[0m at: \u001b[34m\u001b[4mhttps://wandb.ai/pcmbs/audio_model_selection/runs/k7w6m2h3\u001b[0m\n",
            "\u001b[34m\u001b[1mwandb\u001b[0m: Synced 5 W&B file(s), 20 media file(s), 142 artifact file(s) and 3 other file(s)\n",
            "\u001b[34m\u001b[1mwandb\u001b[0m: Find logs at: \u001b[35m\u001b[1m./logs/encodec_48khz/2023-07-12_22-33-00/wandb/run-20230712_223310-k7w6m2h3/logs\u001b[0m\n"
          ]
        }
      ]
    },
    {
      "cell_type": "markdown",
      "source": [
        "# git push"
      ],
      "metadata": {
        "id": "wqds7AbrJeir"
      }
    },
    {
      "cell_type": "code",
      "source": [
        "!git config --global user.email \"paolocombes@gmail.com\"\n",
        "!git config --global user.name \"Paolo Combes\"\n",
        "!git add .\n",
        "!git commit -m \"removed torchinfo logging\"\n",
        "!git push origin main"
      ],
      "metadata": {
        "id": "a4XpyaFA5yE9"
      },
      "execution_count": null,
      "outputs": []
    },
    {
      "cell_type": "code",
      "source": [],
      "metadata": {
        "id": "Y4gZgjAa75bl"
      },
      "execution_count": null,
      "outputs": []
    }
  ]
}
